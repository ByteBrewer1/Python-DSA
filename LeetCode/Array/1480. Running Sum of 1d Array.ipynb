{
 "cells": [
  {
   "attachments": {},
   "cell_type": "markdown",
   "metadata": {},
   "source": [
    "# [1480. Running Sum of 1d Array](https://leetcode.com/problems/running-sum-of-1d-array/)\n",
    "\n",
    "Given an array `nums`. We define a running sum of an array as`runningSum[i] = sum(nums[0]…nums[i])`.\n",
    "\n",
    "Return the running sum of `nums`.\n",
    "\n",
    "**Example 1:** \n",
    "\n",
    "```\n",
    "Input: nums = [1,2,3,4]\n",
    "Output: [1,3,6,10]\n",
    "Explanation: Running sum is obtained as follows: [1, 1+2, 1+2+3, 1+2+3+4].```\n",
    "\n",
    "**Example 2:** \n",
    "\n",
    "```\n",
    "Input: nums = [1,1,1,1,1]\n",
    "Output: [1,2,3,4,5]\n",
    "Explanation: Running sum is obtained as follows: [1, 1+1, 1+1+1, 1+1+1+1, 1+1+1+1+1].```\n",
    "\n",
    "**Example 3:** \n",
    "\n",
    "```\n",
    "Input: nums = [3,1,2,10,1]\n",
    "Output: [3,4,6,16,17]\n",
    "```\n",
    "\n",
    "**Constraints:** \n",
    "\n",
    "- `1 <= nums.length <= 1000`\n",
    "- `-10^6<= nums[i] <=10^6`"
   ]
  },
  {
   "cell_type": "code",
   "execution_count": null,
   "metadata": {},
   "outputs": [],
   "source": [
    "class Solution:\n",
    "    def runningSum(self, nums: List[int]) -> List[int]:\n",
    "        prefixSum = []\n",
    "        sum = 0\n",
    "        n = len(nums)\n",
    "        for i in range(n):\n",
    "            sum = sum + nums[i]\n",
    "            prefixSum.append(sum)\n",
    "        return prefixSum"
   ]
  }
 ],
 "metadata": {
  "language_info": {
   "name": "python"
  },
  "orig_nbformat": 4
 },
 "nbformat": 4,
 "nbformat_minor": 2
}
