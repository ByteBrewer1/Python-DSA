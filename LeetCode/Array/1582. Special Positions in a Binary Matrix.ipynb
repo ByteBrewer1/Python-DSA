{
 "cells": [
  {
   "attachments": {},
   "cell_type": "markdown",
   "metadata": {},
   "source": [
    "# [1582. Special Positions in a Binary Matrix](https://leetcode.com/problems/special-positions-in-a-binary-matrix/)\n",
    "\n",
    "Given an `m x n` binary matrix `mat`, return the number of special positions in `mat`.\n",
    "\n",
    "A position `(i, j)` is called **special**  if `mat[i][j] == 1` and all other elements in row `i` and column `j` are `0` (rows and columns are **0-indexed** ).\n",
    "\n",
    "**Example 1:** \n",
    "<img alt=\"\" src=\"https://assets.leetcode.com/uploads/2021/12/23/special1.jpg\" style=\"width: 244px; height: 245px;\">\n",
    "\n",
    "```\n",
    "Input: mat = [[1,0,0],[0,0,1],[1,0,0]]\n",
    "Output: 1\n",
    "Explanation: (1, 2) is a special position because mat[1][2] == 1 and all other elements in row 1 and column 2 are 0.\n",
    "```\n",
    "\n",
    "**Example 2:** \n",
    "<img alt=\"\" src=\"https://assets.leetcode.com/uploads/2021/12/24/special-grid.jpg\" style=\"width: 244px; height: 245px;\">\n",
    "\n",
    "```\n",
    "Input: mat = [[1,0,0],[0,1,0],[0,0,1]]\n",
    "Output: 3\n",
    "Explanation: (0, 0), (1, 1) and (2, 2) are special positions.\n",
    "```\n",
    "\n",
    "**Constraints:** \n",
    "\n",
    "- `m == mat.length`\n",
    "- `n == mat[i].length`\n",
    "- `1 <= m, n <= 100`\n",
    "- `mat[i][j]` is either `0` or `1`."
   ]
  },
  {
   "cell_type": "code",
   "execution_count": null,
   "metadata": {},
   "outputs": [],
   "source": []
  }
 ],
 "metadata": {
  "language_info": {
   "name": "python"
  },
  "orig_nbformat": 4
 },
 "nbformat": 4,
 "nbformat_minor": 2
}
